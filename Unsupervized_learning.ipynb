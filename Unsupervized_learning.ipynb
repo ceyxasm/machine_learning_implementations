{
  "nbformat": 4,
  "nbformat_minor": 0,
  "metadata": {
    "colab": {
      "name": "Unsupervized_learning.ipynb",
      "provenance": [],
      "authorship_tag": "ABX9TyMWO+Osd05dQmnzwnnkPx/t",
      "include_colab_link": true
    },
    "kernelspec": {
      "name": "python3",
      "display_name": "Python 3"
    },
    "language_info": {
      "name": "python"
    }
  },
  "cells": [
    {
      "cell_type": "markdown",
      "metadata": {
        "id": "view-in-github",
        "colab_type": "text"
      },
      "source": [
        "<a href=\"https://colab.research.google.com/github/ceyxasm/ml/blob/main/Unsupervized_learning.ipynb\" target=\"_parent\"><img src=\"https://colab.research.google.com/assets/colab-badge.svg\" alt=\"Open In Colab\"/></a>"
      ]
    },
    {
      "cell_type": "markdown",
      "source": [
        "**K_MEANS CLUSTERING**"
      ],
      "metadata": {
        "id": "zRweFHXiqVH1"
      }
    },
    {
      "cell_type": "code",
      "execution_count": 2,
      "metadata": {
        "colab": {
          "base_uri": "https://localhost:8080/"
        },
        "id": "CZkrzWJtmJRO",
        "outputId": "2568d918-4f0a-4f8f-c5e8-08816fe1ee23"
      },
      "outputs": [
        {
          "output_type": "stream",
          "name": "stdout",
          "text": [
            "[[4.26923077 1.34230769]\n",
            " [1.462      0.246     ]\n",
            " [5.59583333 2.0375    ]]\n"
          ]
        }
      ],
      "source": [
        "\n",
        "from sklearn.datasets import load_iris\n",
        "iris = load_iris()\n",
        "X = iris.data[:, 2:] # petal length and width\n",
        "\n",
        "from sklearn.cluster import KMeans\n",
        "k = 3\n",
        "kmeans = KMeans(n_clusters=k)\n",
        "y_pred = kmeans.fit_predict(X)\n",
        "\n",
        "print(kmeans.cluster_centers_)\n"
      ]
    },
    {
      "cell_type": "code",
      "source": [
        "import matplotlib.pyplot as plt\n",
        "x=X[:,0]\n",
        "y=X[:,1]\n",
        "plt.scatter(x,y, color='c')\n",
        "c=['r', 'g', 'y']\n",
        "for i in range(3):\n",
        "  plt.plot([kmeans.cluster_centers_[i][0]], [kmeans.cluster_centers_[i][1]], 'ro', color=c[i])\n",
        "\n",
        "plt.show()"
      ],
      "metadata": {
        "colab": {
          "base_uri": "https://localhost:8080/",
          "height": 265
        },
        "id": "MnWWxRfkmdu-",
        "outputId": "da655584-61db-4da0-ff04-fe35862569fa"
      },
      "execution_count": 20,
      "outputs": [
        {
          "output_type": "display_data",
          "data": {
            "image/png": "[encoded data removed]",
            "text/plain": [
              "<Figure size 432x288 with 1 Axes>"
            ]
          },
          "metadata": {
            "needs_background": "light"
          }
        }
      ]
    },
    {
      "cell_type": "code",
      "source": [
        "# it can also be used to convert a high-dimensional dataset to a k-dimensional one\n",
        "X_new=[[1,1], [2,2], [5,2]]\n",
        "print(kmeans.predict(X_new))\n",
        "print(kmeans.transform(X_new))"
      ],
      "metadata": {
        "colab": {
          "base_uri": "https://localhost:8080/"
        },
        "id": "jFA3bwJkm5QJ",
        "outputId": "d6efe418-28a7-48e3-cdc0-d357e6bb980b"
      },
      "execution_count": 22,
      "outputs": [
        {
          "output_type": "stream",
          "name": "stdout",
          "text": [
            "[1 1 2]\n",
            "[[3.28710273 0.88428502 4.71148493]\n",
            " [2.36261877 1.83465528 3.59602887]\n",
            " [0.98314945 3.94891884 0.59701224]]\n"
          ]
        }
      ]
    },
    {
      "cell_type": "code",
      "source": [
        "'''distance of each new point from the pre-existing cluster'''"
      ],
      "metadata": {
        "id": "FFBPizrznbOD"
      },
      "execution_count": null,
      "outputs": []
    }
  ]
}